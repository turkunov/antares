{
 "cells": [
  {
   "cell_type": "markdown",
   "metadata": {},
   "source": [
    "#### Пример использования дедубликатора"
   ]
  },
  {
   "cell_type": "code",
   "execution_count": 1,
   "metadata": {},
   "outputs": [
    {
     "name": "stdout",
     "output_type": "stream",
     "text": [
      "Collecting faiss-cpu\n",
      "  Downloading faiss_cpu-1.7.4-cp310-cp310-win_amd64.whl (10.8 MB)\n",
      "     ---------------------------------------- 10.8/10.8 MB 1.1 MB/s eta 0:00:00\n",
      "Installing collected packages: faiss-cpu\n",
      "Successfully installed faiss-cpu-1.7.4\n",
      "Note: you may need to restart the kernel to use updated packages.\n"
     ]
    }
   ],
   "source": [
    "%pip install faiss-cpu --no-cache"
   ]
  },
  {
   "cell_type": "markdown",
   "metadata": {},
   "source": [
    "Препроцессим столбец \"text\" из датафрейма с новостями"
   ]
  },
  {
   "cell_type": "code",
   "execution_count": 1,
   "metadata": {},
   "outputs": [
    {
     "data": {
      "text/html": [
       "<div>\n",
       "<style scoped>\n",
       "    .dataframe tbody tr th:only-of-type {\n",
       "        vertical-align: middle;\n",
       "    }\n",
       "\n",
       "    .dataframe tbody tr th {\n",
       "        vertical-align: top;\n",
       "    }\n",
       "\n",
       "    .dataframe thead th {\n",
       "        text-align: right;\n",
       "    }\n",
       "</style>\n",
       "<table border=\"1\" class=\"dataframe\">\n",
       "  <thead>\n",
       "    <tr style=\"text-align: right;\">\n",
       "      <th></th>\n",
       "      <th>title</th>\n",
       "      <th>text</th>\n",
       "    </tr>\n",
       "  </thead>\n",
       "  <tbody>\n",
       "    <tr>\n",
       "      <th>0</th>\n",
       "      <td>Восстановление аммиакопровода займет до 3 меся...</td>\n",
       "      <td>[восстановлен, аммиакопровод, тольятт, одесс, ...</td>\n",
       "    </tr>\n",
       "    <tr>\n",
       "      <th>1</th>\n",
       "      <td>Выделены дополнительные 39 млн рублей на соцуч...</td>\n",
       "      <td>[дополнительн, миллион, рубл, был, выдел, на, ...</td>\n",
       "    </tr>\n",
       "    <tr>\n",
       "      <th>2</th>\n",
       "      <td>«Россия уничтожена санкциями»\\n               ...</td>\n",
       "      <td>[росс, уничтож, санкц, байд, ., ах, ха, ха]</td>\n",
       "    </tr>\n",
       "    <tr>\n",
       "      <th>3</th>\n",
       "      <td>Обыски в минобразования Дагестана по делу о вы...</td>\n",
       "      <td>[правоохранител, провел, обыск, в, министерств...</td>\n",
       "    </tr>\n",
       "    <tr>\n",
       "      <th>4</th>\n",
       "      <td>Реконструкция пропускного пункта \"Верхний Ларс...</td>\n",
       "      <td>[реконструкц, пропускн, пункт, верхн, ларс, за...</td>\n",
       "    </tr>\n",
       "  </tbody>\n",
       "</table>\n",
       "</div>"
      ],
      "text/plain": [
       "                                               title   \n",
       "0  Восстановление аммиакопровода займет до 3 меся...  \\\n",
       "1  Выделены дополнительные 39 млн рублей на соцуч...   \n",
       "2  «Россия уничтожена санкциями»\\n               ...   \n",
       "3  Обыски в минобразования Дагестана по делу о вы...   \n",
       "4  Реконструкция пропускного пункта \"Верхний Ларс...   \n",
       "\n",
       "                                                text  \n",
       "0  [восстановлен, аммиакопровод, тольятт, одесс, ...  \n",
       "1  [дополнительн, миллион, рубл, был, выдел, на, ...  \n",
       "2        [росс, уничтож, санкц, байд, ., ах, ха, ха]  \n",
       "3  [правоохранител, провел, обыск, в, министерств...  \n",
       "4  [реконструкц, пропускн, пункт, верхн, ларс, за...  "
      ]
     },
     "execution_count": 1,
     "metadata": {},
     "output_type": "execute_result"
    }
   ],
   "source": [
    "# т.к. относительный импорт не работает необходимо подсоединить к \n",
    "# изучаемой дериктории родительскую дерикторию\n",
    "import os\n",
    "import sys\n",
    "import pandas as pd\n",
    "\n",
    "sys.path.append(os.path.dirname(os.getcwd()))\n",
    "\n",
    "# препроцессим столбец с текстом\n",
    "from utils import preprocessing\n",
    "\n",
    "samples = pd.read_excel('../utils/posts.xlsx')[['title', 'text']]\n",
    "preprocesserClass = preprocessing.textPreprocesser(samples.copy(),['text'])\n",
    "preprocesserClass.clean()\n",
    "preprocesserClass.df.head()"
   ]
  },
  {
   "cell_type": "code",
   "execution_count": null,
   "metadata": {},
   "outputs": [],
   "source": [
    "preprocesserClass.df.shape\n",
    "preprocesserClass.df.drop_duplicates(subset='title', inplace=True)\n",
    "preprocesserClass.df.shape"
   ]
  },
  {
   "cell_type": "markdown",
   "metadata": {},
   "source": [
    "Создаем простейшие эмбеддинги на основе алгоритма TF-IDF"
   ]
  },
  {
   "cell_type": "code",
   "execution_count": 2,
   "metadata": {},
   "outputs": [
    {
     "data": {
      "text/plain": [
       "(169300, 145419)"
      ]
     },
     "execution_count": 2,
     "metadata": {},
     "output_type": "execute_result"
    }
   ],
   "source": [
    "from sklearn.feature_extraction.text import TfidfVectorizer\n",
    "\n",
    "corpus = preprocesserClass.df['text'].str.join(' ')\n",
    "vectorizer = TfidfVectorizer()\n",
    "embeddings = vectorizer.fit_transform(corpus)\n",
    "embeddings.shape"
   ]
  },
  {
   "cell_type": "markdown",
   "metadata": {},
   "source": [
    "Находим расстояния между эмбеддингами"
   ]
  },
  {
   "cell_type": "code",
   "execution_count": 3,
   "metadata": {},
   "outputs": [
    {
     "ename": "MemoryError",
     "evalue": "Unable to allocate 45.9 GiB for an array with shape (169300, 145419) and data type float16",
     "output_type": "error",
     "traceback": [
      "\u001b[1;31m---------------------------------------------------------------------------\u001b[0m",
      "\u001b[1;31mMemoryError\u001b[0m                               Traceback (most recent call last)",
      "\u001b[1;32mc:\\Users\\user\\Desktop\\GitHub\\antares\\examples\\duplicates_removal.ipynb Cell 8\u001b[0m line \u001b[0;36m5\n\u001b[0;32m      <a href='vscode-notebook-cell:/c%3A/Users/user/Desktop/GitHub/antares/examples/duplicates_removal.ipynb#X10sZmlsZQ%3D%3D?line=1'>2</a>\u001b[0m \u001b[39mimport\u001b[39;00m \u001b[39mnumpy\u001b[39;00m \u001b[39mas\u001b[39;00m \u001b[39mnp\u001b[39;00m\n\u001b[0;32m      <a href='vscode-notebook-cell:/c%3A/Users/user/Desktop/GitHub/antares/examples/duplicates_removal.ipynb#X10sZmlsZQ%3D%3D?line=2'>3</a>\u001b[0m \u001b[39mfrom\u001b[39;00m \u001b[39mscipy\u001b[39;00m\u001b[39m.\u001b[39;00m\u001b[39msparse\u001b[39;00m \u001b[39mimport\u001b[39;00m csr_matrix, coo_matrix\n\u001b[1;32m----> <a href='vscode-notebook-cell:/c%3A/Users/user/Desktop/GitHub/antares/examples/duplicates_removal.ipynb#X10sZmlsZQ%3D%3D?line=4'>5</a>\u001b[0m embeddings \u001b[39m=\u001b[39m csr_matrix(embeddings)\u001b[39m.\u001b[39;49mastype(np\u001b[39m.\u001b[39;49mfloat32)\u001b[39m.\u001b[39;49mtoarray()\u001b[39m.\u001b[39;49mastype(np\u001b[39m.\u001b[39;49mfloat16)\n\u001b[0;32m      <a href='vscode-notebook-cell:/c%3A/Users/user/Desktop/GitHub/antares/examples/duplicates_removal.ipynb#X10sZmlsZQ%3D%3D?line=5'>6</a>\u001b[0m dists, indices \u001b[39m=\u001b[39m deduplicator\u001b[39m.\u001b[39ml2_dists(embeddings)\n",
      "\u001b[1;31mMemoryError\u001b[0m: Unable to allocate 45.9 GiB for an array with shape (169300, 145419) and data type float16"
     ]
    }
   ],
   "source": [
    "from utils import deduplicator\n",
    "import numpy as np\n",
    "from scipy.sparse import csr_matrix, coo_matrix\n",
    "\n",
    "embeddings = csr_matrix(embeddings).astype(np.float32).toarray().astype(np.float16)\n",
    "dists, indices = deduplicator.l2_dists(embeddings)"
   ]
  },
  {
   "cell_type": "markdown",
   "metadata": {},
   "source": [
    "На основе полученных расстояний удаляем дубликаты из датафрейма с новостями"
   ]
  },
  {
   "cell_type": "code",
   "execution_count": null,
   "metadata": {},
   "outputs": [
    {
     "name": "stdout",
     "output_type": "stream",
     "text": [
      "Процент удаленных дубликатов: 44.19\n"
     ]
    }
   ],
   "source": [
    "dedup_df, removed_n = deduplicator.dedup(preprocesserClass.df, dists, indices)\n",
    "print(f'Процент удаленных дубликатов: {round(removed_n / preprocesserClass.df.shape[0] * 100, 2)}')"
   ]
  },
  {
   "cell_type": "code",
   "execution_count": null,
   "metadata": {},
   "outputs": [
    {
     "data": {
      "text/html": [
       "<div>\n",
       "<style scoped>\n",
       "    .dataframe tbody tr th:only-of-type {\n",
       "        vertical-align: middle;\n",
       "    }\n",
       "\n",
       "    .dataframe tbody tr th {\n",
       "        vertical-align: top;\n",
       "    }\n",
       "\n",
       "    .dataframe thead th {\n",
       "        text-align: right;\n",
       "    }\n",
       "</style>\n",
       "<table border=\"1\" class=\"dataframe\">\n",
       "  <thead>\n",
       "    <tr style=\"text-align: right;\">\n",
       "      <th></th>\n",
       "      <th>title</th>\n",
       "      <th>text</th>\n",
       "    </tr>\n",
       "  </thead>\n",
       "  <tbody>\n",
       "    <tr>\n",
       "      <th>23298</th>\n",
       "      <td>**🇩🇪 Немка пожаловалась на домогательства со с...</td>\n",
       "      <td>[немк, пожалова, на, домогательств, со, сторон...</td>\n",
       "    </tr>\n",
       "    <tr>\n",
       "      <th>154293</th>\n",
       "      <td>Минувшей ночью в небе над городом</td>\n",
       "      <td>[минувш, ноч, в, неб, над, город]</td>\n",
       "    </tr>\n",
       "    <tr>\n",
       "      <th>97458</th>\n",
       "      <td>**Підведені підсумки місяця пілотного проекту ...</td>\n",
       "      <td>[п, двед, п, дсумк, м, сят^, п, лотн, проект, ...</td>\n",
       "    </tr>\n",
       "    <tr>\n",
       "      <th>100288</th>\n",
       "      <td>Скажите, а Вы тоже, уходя из дома, говорите ко...</td>\n",
       "      <td>[скаж, а, вы, уход, из, дом, говор, кот, ил, с...</td>\n",
       "    </tr>\n",
       "    <tr>\n",
       "      <th>80350</th>\n",
       "      <td>**Инвесторы вывели с начала 2023 года $27 млрд...</td>\n",
       "      <td>[инвестор, вывел, с, нача, год, млрд, из, евро...</td>\n",
       "    </tr>\n",
       "  </tbody>\n",
       "</table>\n",
       "</div>"
      ],
      "text/plain": [
       "                                                    title   \n",
       "23298   **🇩🇪 Немка пожаловалась на домогательства со с...  \\\n",
       "154293                  Минувшей ночью в небе над городом   \n",
       "97458   **Підведені підсумки місяця пілотного проекту ...   \n",
       "100288  Скажите, а Вы тоже, уходя из дома, говорите ко...   \n",
       "80350   **Инвесторы вывели с начала 2023 года $27 млрд...   \n",
       "\n",
       "                                                     text  \n",
       "23298   [немк, пожалова, на, домогательств, со, сторон...  \n",
       "154293                  [минувш, ноч, в, неб, над, город]  \n",
       "97458   [п, двед, п, дсумк, м, сят^, п, лотн, проект, ...  \n",
       "100288  [скаж, а, вы, уход, из, дом, говор, кот, ил, с...  \n",
       "80350   [инвестор, вывел, с, нача, год, млрд, из, евро...  "
      ]
     },
     "execution_count": 6,
     "metadata": {},
     "output_type": "execute_result"
    }
   ],
   "source": [
    "dedup_df.head()"
   ]
  }
 ],
 "metadata": {
  "kernelspec": {
   "display_name": "base",
   "language": "python",
   "name": "python3"
  },
  "language_info": {
   "codemirror_mode": {
    "name": "ipython",
    "version": 3
   },
   "file_extension": ".py",
   "mimetype": "text/x-python",
   "name": "python",
   "nbconvert_exporter": "python",
   "pygments_lexer": "ipython3",
   "version": "3.10.9"
  },
  "orig_nbformat": 4
 },
 "nbformat": 4,
 "nbformat_minor": 2
}
